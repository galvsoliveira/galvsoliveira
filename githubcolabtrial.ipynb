{
  "nbformat": 4,
  "nbformat_minor": 0,
  "metadata": {
    "colab": {
      "name": "githubcolabtrial.ipynb",
      "provenance": [],
      "authorship_tag": "ABX9TyNUxMTF8Xa9WZnvLctzxiyC",
      "include_colab_link": true
    },
    "kernelspec": {
      "name": "python3",
      "display_name": "Python 3"
    },
    "language_info": {
      "name": "python"
    }
  },
  "cells": [
    {
      "cell_type": "markdown",
      "metadata": {
        "id": "view-in-github",
        "colab_type": "text"
      },
      "source": [
        "<a href=\"https://colab.research.google.com/github/galvsoliveira/galvsoliveira/blob/main/githubcolabtrial.ipynb\" target=\"_parent\"><img src=\"https://colab.research.google.com/assets/colab-badge.svg\" alt=\"Open In Colab\"/></a>"
      ]
    },
    {
      "cell_type": "code",
      "execution_count": 4,
      "metadata": {
        "colab": {
          "base_uri": "https://localhost:8080/"
        },
        "id": "WnZTRDxVnzxX",
        "outputId": "f71aef49-f89a-4c59-cda2-fdda238506d1"
      },
      "outputs": [
        {
          "output_type": "stream",
          "name": "stdout",
          "text": [
            "Teste para o Github\n"
          ]
        }
      ],
      "source": [
        "print('Teste para o Github')"
      ]
    },
    {
      "cell_type": "code",
      "source": [
        ""
      ],
      "metadata": {
        "id": "CGdba6YioB90"
      },
      "execution_count": null,
      "outputs": []
    }
  ]
}